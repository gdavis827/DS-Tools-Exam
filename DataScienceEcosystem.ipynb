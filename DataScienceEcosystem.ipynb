{
 "cells": [
  {
   "cell_type": "markdown",
   "id": "73ed4803-1afc-42f4-ae32-61cb8123eaa6",
   "metadata": {},
   "source": [
    "# Data Science Tools and Ecosystem"
   ]
  },
  {
   "cell_type": "markdown",
   "id": "b3362b4f-c9b4-43cc-bc55-a1e852c073fe",
   "metadata": {},
   "source": [
    "### In this notebook, Data Science Tools and Ecosystem are summarized."
   ]
  },
  {
   "cell_type": "markdown",
   "id": "4c9fb7b5-fa50-4bfd-83c1-123c4416200d",
   "metadata": {},
   "source": [
    "Some of the popular languages that Data Scientists use are:\n",
    "1. python\n",
    "2. r\n",
    "3. sql\n",
    "4. c++"
   ]
  },
  {
   "cell_type": "markdown",
   "id": "a9925214-8604-4a9c-bc8d-617b19500356",
   "metadata": {},
   "source": [
    "Some of the commly used libraries used by Data Scientists include:\n",
    "1. pandas\n",
    "2. numpy\n",
    "3. scipy\n",
    "4. keras"
   ]
  },
  {
   "cell_type": "markdown",
   "id": "8f899a87-c64d-4fe0-b4c6-6708cc5bd8ee",
   "metadata": {},
   "source": [
    "|Data Science Tools|\n",
    "|:----|\n",
    "|apache spark|\n",
    "|tensorflow|\n",
    "|h20|\n",
    "\n"
   ]
  },
  {
   "cell_type": "markdown",
   "id": "5e4f72e9-6fd7-4e7b-b27a-ec918ec2fe63",
   "metadata": {},
   "source": [
    "### Below are a few examples of evaluating arithmetic expressions in Python"
   ]
  },
  {
   "cell_type": "code",
   "execution_count": null,
   "id": "950373f5-89dd-4835-acff-a98064209217",
   "metadata": {},
   "outputs": [],
   "source": []
  }
 ],
 "metadata": {
  "kernelspec": {
   "display_name": "Python",
   "language": "python",
   "name": "conda-env-python-py"
  },
  "language_info": {
   "codemirror_mode": {
    "name": "ipython",
    "version": 3
   },
   "file_extension": ".py",
   "mimetype": "text/x-python",
   "name": "python",
   "nbconvert_exporter": "python",
   "pygments_lexer": "ipython3",
   "version": "3.7.12"
  }
 },
 "nbformat": 4,
 "nbformat_minor": 5
}
